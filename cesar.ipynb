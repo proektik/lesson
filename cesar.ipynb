{
  "nbformat": 4,
  "nbformat_minor": 0,
  "metadata": {
    "colab": {
      "name": "cesar.ipynb",
      "provenance": [],
      "authorship_tag": "ABX9TyPzPMW9wnDuNgAQurLQ+gAj",
      "include_colab_link": true
    },
    "kernelspec": {
      "name": "python3",
      "display_name": "Python 3"
    }
  },
  "cells": [
    {
      "cell_type": "markdown",
      "metadata": {
        "id": "view-in-github",
        "colab_type": "text"
      },
      "source": [
        "<a href=\"https://colab.research.google.com/github/proektik/lesson/blob/master/cesar.ipynb\" target=\"_parent\"><img src=\"https://colab.research.google.com/assets/colab-badge.svg\" alt=\"Open In Colab\"/></a>"
      ]
    },
    {
      "cell_type": "code",
      "metadata": {
        "colab": {
          "base_uri": "https://localhost:8080/"
        },
        "id": "4_TReWc90yTw",
        "outputId": "9bde3375-3497-414f-b744-98784002b5ca"
      },
      "source": [
        "print('Введите строку: ')\r\n",
        "s = input()\r\n",
        "ss = ''\r\n",
        "print('Введите сдвиг(от 0 до 32):')\r\n",
        "k = input()\r\n",
        "#print(len(s))\r\n",
        "for i in range (len(s)):\r\n",
        "  if (s[i] >= 'а' and s[i] <= 'я'):\r\n",
        "    if str(chr(ord(s[i]) + int(k))) > 'я':\r\n",
        "      ss += str(chr(ord(s[i]) + int(k) - ord('я') + ord('а') - 1))\r\n",
        "    else:\r\n",
        "      ss += str(chr(ord(s[i]) + int(k)))\r\n",
        "  elif (s[i] >= 'А' and s[i] <= 'Я'):\r\n",
        "    if str(chr(ord(s[i]) + int(k))) > 'Я':\r\n",
        "      ss += str(chr(ord(s[i]) + int(k) - ord('Я') + ord('А') - 1))\r\n",
        "    else:\r\n",
        "      ss += str(chr(ord(s[i]) + int(k)))\r\n",
        "  else:\r\n",
        "    ss += s[i]\r\n",
        "print(ss)"
      ],
      "execution_count": 79,
      "outputs": [
        {
          "output_type": "stream",
          "text": [
            "Введите строку: \n",
            "пррпоищш\n",
            "Введите сдвиг(от 0 до 32):\n",
            "2\n",
            "сттсркыъ\n"
          ],
          "name": "stdout"
        }
      ]
    }
  ]
}